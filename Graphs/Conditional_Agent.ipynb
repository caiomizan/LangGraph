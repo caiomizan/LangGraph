{
 "cells": [
  {
   "cell_type": "code",
   "id": "initial_id",
   "metadata": {
    "collapsed": true,
    "ExecuteTime": {
     "end_time": "2025-07-08T16:45:28.484833Z",
     "start_time": "2025-07-08T16:45:28.479199Z"
    }
   },
   "source": [
    "from typing import TypedDict\n",
    "from langgraph.graph import START, END, StateGraph"
   ],
   "outputs": [],
   "execution_count": 34
  },
  {
   "metadata": {
    "ExecuteTime": {
     "end_time": "2025-07-08T16:45:28.508468Z",
     "start_time": "2025-07-08T16:45:28.501256Z"
    }
   },
   "cell_type": "code",
   "source": [
    "class AgentState(TypedDict):\n",
    "    number1: int\n",
    "    operation: str\n",
    "    number2: int\n",
    "    finalNumber: int"
   ],
   "id": "4cbb159dcad66f73",
   "outputs": [],
   "execution_count": 35
  },
  {
   "metadata": {
    "ExecuteTime": {
     "end_time": "2025-07-08T16:45:28.548216Z",
     "start_time": "2025-07-08T16:45:28.533308Z"
    }
   },
   "cell_type": "code",
   "source": [
    "def adder(state:AgentState)->AgentState:\n",
    "    \"\"\"Esse nodo soma 2 numeros\"\"\"\n",
    "\n",
    "    state[\"finalNumber\"] = state[\"number1\"] + state[\"number2\"]\n",
    "\n",
    "    return state\n",
    "\n",
    "def subtractor(state:AgentState)->AgentState:\n",
    "    \"\"\"Esse nodo subtrai 2 numeros\"\"\"\n",
    "\n",
    "    state[\"finalNumber\"] = state[\"number1\"] - state[\"number2\"]\n",
    "\n",
    "    return state\n",
    "\n",
    "def decide_next_node(state:AgentState)->AgentState:\n",
    "    \"\"\"Decide qual sera o proximo nodo do grafo\"\"\"\n",
    "\n",
    "    if state[\"operation\"] == \"+\":\n",
    "        return \"addition_operation\"\n",
    "    elif state[\"operation\"] == \"-\":\n",
    "        return \"subtraction_operation\"\n"
   ],
   "id": "c071aefb4f5ace07",
   "outputs": [],
   "execution_count": 36
  },
  {
   "metadata": {
    "ExecuteTime": {
     "end_time": "2025-07-08T16:45:28.581510Z",
     "start_time": "2025-07-08T16:45:28.561687Z"
    }
   },
   "cell_type": "code",
   "source": [
    "graph = StateGraph(AgentState)\n",
    "\n",
    "graph.add_node(\"add_node\",adder)\n",
    "graph.add_node(\"subtract_node\",subtractor)\n",
    "graph.add_node(\"router\",lambda state:state)\n",
    "\n",
    "graph.add_edge(START,\"router\")\n",
    "graph.add_conditional_edges(\"router\",decide_next_node,{\"addition_node\":\"add_node\",\"subtraction_operation\": \"subtract_node\"})\n",
    "graph.add_edge(\"add_node\",END)\n",
    "graph.add_edge(\"subtract_node\",END)\n",
    "\n",
    "app = graph.compile()"
   ],
   "id": "8ec738d3dd3f81f7",
   "outputs": [],
   "execution_count": 37
  },
  {
   "metadata": {
    "ExecuteTime": {
     "end_time": "2025-07-08T16:45:28.879451Z",
     "start_time": "2025-07-08T16:45:28.596646Z"
    }
   },
   "cell_type": "code",
   "source": [
    "from IPython.display import Image, display\n",
    "display(Image(app.get_graph().draw_mermaid_png()))"
   ],
   "id": "e32fb09c9798266",
   "outputs": [
    {
     "data": {
      "image/png": "[encoded data removed]",
      "text/plain": [
       "<IPython.core.display.Image object>"
      ]
     },
     "metadata": {},
     "output_type": "display_data"
    }
   ],
   "execution_count": 38
  },
  {
   "metadata": {
    "ExecuteTime": {
     "end_time": "2025-07-08T16:47:19.840150Z",
     "start_time": "2025-07-08T16:47:19.822860Z"
    }
   },
   "cell_type": "code",
   "source": [
    "initial_state1 = AgentState(number1=10, operation=\"-\",number2=5)\n",
    "print(app.invoke(initial_state1))\n",
    "\n"
   ],
   "id": "94fc0674d998a36c",
   "outputs": [
    {
     "name": "stdout",
     "output_type": "stream",
     "text": [
      "{'number1': 10, 'operation': '-', 'number2': 5, 'finalNumber': 5}\n"
     ]
    }
   ],
   "execution_count": 40
  }
 ],
 "metadata": {
  "kernelspec": {
   "display_name": "Python 3",
   "language": "python",
   "name": "python3"
  },
  "language_info": {
   "codemirror_mode": {
    "name": "ipython",
    "version": 2
   },
   "file_extension": ".py",
   "mimetype": "text/x-python",
   "name": "python",
   "nbconvert_exporter": "python",
   "pygments_lexer": "ipython2",
   "version": "2.7.6"
  }
 },
 "nbformat": 4,
 "nbformat_minor": 5
}
